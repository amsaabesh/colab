{
  "nbformat": 4,
  "nbformat_minor": 0,
  "metadata": {
    "colab": {
      "provenance": [],
      "authorship_tag": "ABX9TyMGPOGW3ZhQ3a9gcW7AiAie",
      "include_colab_link": true
    },
    "kernelspec": {
      "name": "python3",
      "display_name": "Python 3"
    },
    "language_info": {
      "name": "python"
    }
  },
  "cells": [
    {
      "cell_type": "markdown",
      "metadata": {
        "id": "view-in-github",
        "colab_type": "text"
      },
      "source": [
        "<a href=\"https://colab.research.google.com/github/amsaabesh/colab/blob/main/assignment2.ipynb\" target=\"_parent\"><img src=\"https://colab.research.google.com/assets/colab-badge.svg\" alt=\"Open In Colab\"/></a>"
      ]
    },
    {
      "cell_type": "code",
      "execution_count": 14,
      "metadata": {
        "colab": {
          "base_uri": "https://localhost:8080/"
        },
        "id": "h5fHtlf0hdIT",
        "outputId": "95b5c76d-1b9b-42e8-8b6e-e1de1a5492f0"
      },
      "outputs": [
        {
          "output_type": "stream",
          "name": "stdout",
          "text": [
            "Looking in indexes: https://pypi.org/simple, https://us-python.pkg.dev/colab-wheels/public/simple/\n",
            "Requirement already satisfied: pandas in /usr/local/lib/python3.8/dist-packages (1.3.5)\n",
            "Requirement already satisfied: pytz>=2017.3 in /usr/local/lib/python3.8/dist-packages (from pandas) (2022.7.1)\n",
            "Requirement already satisfied: numpy>=1.17.3 in /usr/local/lib/python3.8/dist-packages (from pandas) (1.21.6)\n",
            "Requirement already satisfied: python-dateutil>=2.7.3 in /usr/local/lib/python3.8/dist-packages (from pandas) (2.8.2)\n",
            "Requirement already satisfied: six>=1.5 in /usr/local/lib/python3.8/dist-packages (from python-dateutil>=2.7.3->pandas) (1.15.0)\n"
          ]
        }
      ],
      "source": [
        "!pip install pandas"
      ]
    },
    {
      "cell_type": "code",
      "source": [
        "import pandas as pd\n",
        "\n",
        "# read a CSV file into a DataFrame\n",
        "df = pd.read_csv('/content/weather.zip')\n",
        "\n",
        "# compute summary statistics\n",
        "mean = df.mean()\n",
        "median = df.median()\n",
        "mode = df.mode()\n",
        "\n",
        "# display the summary statistics\n",
        "print('Mean:\\n', mean)\n",
        "print('Median:\\n', median)\n",
        "print('Mode:\\n', mode)"
      ],
      "metadata": {
        "colab": {
          "base_uri": "https://localhost:8080/"
        },
        "id": "Hv32JRAoo703",
        "outputId": "f3529a38-f96d-4c17-e483-df99992026e2"
      },
      "execution_count": 17,
      "outputs": [
        {
          "output_type": "stream",
          "name": "stdout",
          "text": [
            "Mean:\n",
            " Temperature (C)               11.932678\n",
            "Apparent Temperature (C)      10.855029\n",
            "Humidity                       0.734899\n",
            "Wind Speed (km/h)             10.810640\n",
            "Wind Bearing (degrees)       187.509232\n",
            "Visibility (km)               10.347325\n",
            "Loud Cover                     0.000000\n",
            "Pressure (millibars)        1003.235956\n",
            "dtype: float64\n",
            "Median:\n",
            " Temperature (C)               12.0000\n",
            "Apparent Temperature (C)      12.0000\n",
            "Humidity                       0.7800\n",
            "Wind Speed (km/h)              9.9659\n",
            "Wind Bearing (degrees)       180.0000\n",
            "Visibility (km)               10.0464\n",
            "Loud Cover                     0.0000\n",
            "Pressure (millibars)        1016.4500\n",
            "dtype: float64\n",
            "Mode:\n",
            "                    Formatted Date        Summary Precip Type  Temperature (C)  \\\n",
            "0   2010-08-02 00:00:00.000 +0200  Partly Cloudy        rain         7.222222   \n",
            "1   2010-08-02 01:00:00.000 +0200            NaN         NaN              NaN   \n",
            "2   2010-08-02 02:00:00.000 +0200            NaN         NaN              NaN   \n",
            "3   2010-08-02 03:00:00.000 +0200            NaN         NaN              NaN   \n",
            "4   2010-08-02 04:00:00.000 +0200            NaN         NaN              NaN   \n",
            "5   2010-08-02 05:00:00.000 +0200            NaN         NaN              NaN   \n",
            "6   2010-08-02 06:00:00.000 +0200            NaN         NaN              NaN   \n",
            "7   2010-08-02 07:00:00.000 +0200            NaN         NaN              NaN   \n",
            "8   2010-08-02 08:00:00.000 +0200            NaN         NaN              NaN   \n",
            "9   2010-08-02 09:00:00.000 +0200            NaN         NaN              NaN   \n",
            "10  2010-08-02 10:00:00.000 +0200            NaN         NaN              NaN   \n",
            "11  2010-08-02 11:00:00.000 +0200            NaN         NaN              NaN   \n",
            "12  2010-08-02 12:00:00.000 +0200            NaN         NaN              NaN   \n",
            "13  2010-08-02 13:00:00.000 +0200            NaN         NaN              NaN   \n",
            "14  2010-08-02 14:00:00.000 +0200            NaN         NaN              NaN   \n",
            "15  2010-08-02 15:00:00.000 +0200            NaN         NaN              NaN   \n",
            "16  2010-08-02 16:00:00.000 +0200            NaN         NaN              NaN   \n",
            "17  2010-08-02 17:00:00.000 +0200            NaN         NaN              NaN   \n",
            "18  2010-08-02 18:00:00.000 +0200            NaN         NaN              NaN   \n",
            "19  2010-08-02 19:00:00.000 +0200            NaN         NaN              NaN   \n",
            "20  2010-08-02 20:00:00.000 +0200            NaN         NaN              NaN   \n",
            "21  2010-08-02 21:00:00.000 +0200            NaN         NaN              NaN   \n",
            "22  2010-08-02 22:00:00.000 +0200            NaN         NaN              NaN   \n",
            "23  2010-08-02 23:00:00.000 +0200            NaN         NaN              NaN   \n",
            "\n",
            "    Apparent Temperature (C)  Humidity  Wind Speed (km/h)  \\\n",
            "0                  12.777778      0.93               3.22   \n",
            "1                        NaN       NaN                NaN   \n",
            "2                        NaN       NaN                NaN   \n",
            "3                        NaN       NaN                NaN   \n",
            "4                        NaN       NaN                NaN   \n",
            "5                        NaN       NaN                NaN   \n",
            "6                        NaN       NaN                NaN   \n",
            "7                        NaN       NaN                NaN   \n",
            "8                        NaN       NaN                NaN   \n",
            "9                        NaN       NaN                NaN   \n",
            "10                       NaN       NaN                NaN   \n",
            "11                       NaN       NaN                NaN   \n",
            "12                       NaN       NaN                NaN   \n",
            "13                       NaN       NaN                NaN   \n",
            "14                       NaN       NaN                NaN   \n",
            "15                       NaN       NaN                NaN   \n",
            "16                       NaN       NaN                NaN   \n",
            "17                       NaN       NaN                NaN   \n",
            "18                       NaN       NaN                NaN   \n",
            "19                       NaN       NaN                NaN   \n",
            "20                       NaN       NaN                NaN   \n",
            "21                       NaN       NaN                NaN   \n",
            "22                       NaN       NaN                NaN   \n",
            "23                       NaN       NaN                NaN   \n",
            "\n",
            "    Wind Bearing (degrees)  Visibility (km)  Loud Cover  Pressure (millibars)  \\\n",
            "0                      0.0            9.982         0.0                   0.0   \n",
            "1                      NaN              NaN         NaN                   NaN   \n",
            "2                      NaN              NaN         NaN                   NaN   \n",
            "3                      NaN              NaN         NaN                   NaN   \n",
            "4                      NaN              NaN         NaN                   NaN   \n",
            "5                      NaN              NaN         NaN                   NaN   \n",
            "6                      NaN              NaN         NaN                   NaN   \n",
            "7                      NaN              NaN         NaN                   NaN   \n",
            "8                      NaN              NaN         NaN                   NaN   \n",
            "9                      NaN              NaN         NaN                   NaN   \n",
            "10                     NaN              NaN         NaN                   NaN   \n",
            "11                     NaN              NaN         NaN                   NaN   \n",
            "12                     NaN              NaN         NaN                   NaN   \n",
            "13                     NaN              NaN         NaN                   NaN   \n",
            "14                     NaN              NaN         NaN                   NaN   \n",
            "15                     NaN              NaN         NaN                   NaN   \n",
            "16                     NaN              NaN         NaN                   NaN   \n",
            "17                     NaN              NaN         NaN                   NaN   \n",
            "18                     NaN              NaN         NaN                   NaN   \n",
            "19                     NaN              NaN         NaN                   NaN   \n",
            "20                     NaN              NaN         NaN                   NaN   \n",
            "21                     NaN              NaN         NaN                   NaN   \n",
            "22                     NaN              NaN         NaN                   NaN   \n",
            "23                     NaN              NaN         NaN                   NaN   \n",
            "\n",
            "                        Daily Summary  \n",
            "0   Mostly cloudy throughout the day.  \n",
            "1                                 NaN  \n",
            "2                                 NaN  \n",
            "3                                 NaN  \n",
            "4                                 NaN  \n",
            "5                                 NaN  \n",
            "6                                 NaN  \n",
            "7                                 NaN  \n",
            "8                                 NaN  \n",
            "9                                 NaN  \n",
            "10                                NaN  \n",
            "11                                NaN  \n",
            "12                                NaN  \n",
            "13                                NaN  \n",
            "14                                NaN  \n",
            "15                                NaN  \n",
            "16                                NaN  \n",
            "17                                NaN  \n",
            "18                                NaN  \n",
            "19                                NaN  \n",
            "20                                NaN  \n",
            "21                                NaN  \n",
            "22                                NaN  \n",
            "23                                NaN  \n"
          ]
        },
        {
          "output_type": "stream",
          "name": "stderr",
          "text": [
            "<ipython-input-17-043823f124ca>:7: FutureWarning: Dropping of nuisance columns in DataFrame reductions (with 'numeric_only=None') is deprecated; in a future version this will raise TypeError.  Select only valid columns before calling the reduction.\n",
            "  mean = df.mean()\n",
            "<ipython-input-17-043823f124ca>:8: FutureWarning: Dropping of nuisance columns in DataFrame reductions (with 'numeric_only=None') is deprecated; in a future version this will raise TypeError.  Select only valid columns before calling the reduction.\n",
            "  median = df.median()\n"
          ]
        }
      ]
    },
    {
      "cell_type": "code",
      "source": [
        "# select numerical columns only\n",
        "numeric_cols = df.select_dtypes(include='number')\n",
        "\n",
        "# compute summary statistics\n",
        "mean = numeric_cols.mean()\n",
        "median = numeric_cols.median()\n",
        "mode = numeric_cols.mode()\n",
        "\n",
        "# display the summary statistics\n",
        "print('Mean:\\n', mean)\n",
        "print('Median:\\n', median)\n",
        "print('Mode:\\n', mode)"
      ],
      "metadata": {
        "colab": {
          "base_uri": "https://localhost:8080/"
        },
        "id": "wH5O-Xu8BPyr",
        "outputId": "8a161244-0e4a-4fed-f62c-c7dfc9ad66fb"
      },
      "execution_count": 18,
      "outputs": [
        {
          "output_type": "stream",
          "name": "stdout",
          "text": [
            "Mean:\n",
            " Temperature (C)               11.932678\n",
            "Apparent Temperature (C)      10.855029\n",
            "Humidity                       0.734899\n",
            "Wind Speed (km/h)             10.810640\n",
            "Wind Bearing (degrees)       187.509232\n",
            "Visibility (km)               10.347325\n",
            "Loud Cover                     0.000000\n",
            "Pressure (millibars)        1003.235956\n",
            "dtype: float64\n",
            "Median:\n",
            " Temperature (C)               12.0000\n",
            "Apparent Temperature (C)      12.0000\n",
            "Humidity                       0.7800\n",
            "Wind Speed (km/h)              9.9659\n",
            "Wind Bearing (degrees)       180.0000\n",
            "Visibility (km)               10.0464\n",
            "Loud Cover                     0.0000\n",
            "Pressure (millibars)        1016.4500\n",
            "dtype: float64\n",
            "Mode:\n",
            "    Temperature (C)  Apparent Temperature (C)  Humidity  Wind Speed (km/h)  \\\n",
            "0         7.222222                 12.777778      0.93               3.22   \n",
            "\n",
            "   Wind Bearing (degrees)  Visibility (km)  Loud Cover  Pressure (millibars)  \n",
            "0                     0.0            9.982         0.0                   0.0  \n"
          ]
        }
      ]
    }
  ]
}