{
  "nbformat": 4,
  "nbformat_minor": 0,
  "metadata": {
    "colab": {
      "provenance": [],
      "authorship_tag": "ABX9TyNRvc+Ps51Bceef+c3G1Wnt",
      "include_colab_link": true
    },
    "kernelspec": {
      "name": "python3",
      "display_name": "Python 3"
    },
    "language_info": {
      "name": "python"
    }
  },
  "cells": [
    {
      "cell_type": "markdown",
      "metadata": {
        "id": "view-in-github",
        "colab_type": "text"
      },
      "source": [
        "<a href=\"https://colab.research.google.com/github/amsaabesh/colab/blob/main/Assignment1.ipynb\" target=\"_parent\"><img src=\"https://colab.research.google.com/assets/colab-badge.svg\" alt=\"Open In Colab\"/></a>"
      ]
    },
    {
      "cell_type": "code",
      "execution_count": null,
      "metadata": {
        "colab": {
          "base_uri": "https://localhost:8080/"
        },
        "id": "nf41TrOMZYjR",
        "outputId": "335085e8-f4a7-49b4-c9c2-774038a3428b"
      },
      "outputs": [
        {
          "output_type": "stream",
          "name": "stdout",
          "text": [
            "   sepal_length  sepal_width  petal_length  petal_width      species\n",
            "0           5.1          3.5           1.4          0.2  Iris-setosa\n",
            "1           4.9          3.0           1.4          0.2  Iris-setosa\n",
            "2           4.7          3.2           1.3          0.2  Iris-setosa\n",
            "3           4.6          3.1           1.5          0.2  Iris-setosa\n",
            "4           5.0          3.6           1.4          0.2  Iris-setosa\n"
          ]
        }
      ],
      "source": [
        "import pandas as pd\n",
        "\n",
        "df = pd.read_csv('/content/archive.zip')\n",
        "print(df.head())"
      ]
    },
    {
      "cell_type": "code",
      "source": [
        "duplicates = df.duplicated()\n",
        "print(duplicates.sum())"
      ],
      "metadata": {
        "colab": {
          "base_uri": "https://localhost:8080/"
        },
        "id": "RrLzaI3ZaTbt",
        "outputId": "1daffd42-828b-4a10-90f4-e665a3d636ab"
      },
      "execution_count": null,
      "outputs": [
        {
          "output_type": "stream",
          "name": "stdout",
          "text": [
            "3\n"
          ]
        }
      ]
    },
    {
      "cell_type": "code",
      "source": [
        "df = df.drop_duplicates()"
      ],
      "metadata": {
        "id": "SSkCiV0racZO"
      },
      "execution_count": null,
      "outputs": []
    },
    {
      "cell_type": "code",
      "source": [
        "subset = df.loc[10:20, ['sepal_length', 'petal_length', 'species']]\n",
        "print(subset)"
      ],
      "metadata": {
        "colab": {
          "base_uri": "https://localhost:8080/"
        },
        "id": "rRmaDcLPaj7s",
        "outputId": "d59e3511-46a1-4925-f092-5eb251466404"
      },
      "execution_count": null,
      "outputs": [
        {
          "output_type": "stream",
          "name": "stdout",
          "text": [
            "    sepal_length  petal_length      species\n",
            "10           5.4           1.5  Iris-setosa\n",
            "11           4.8           1.6  Iris-setosa\n",
            "12           4.8           1.4  Iris-setosa\n",
            "13           4.3           1.1  Iris-setosa\n",
            "14           5.8           1.2  Iris-setosa\n",
            "15           5.7           1.5  Iris-setosa\n",
            "16           5.4           1.3  Iris-setosa\n",
            "17           5.1           1.4  Iris-setosa\n",
            "18           5.7           1.7  Iris-setosa\n",
            "19           5.1           1.5  Iris-setosa\n",
            "20           5.4           1.7  Iris-setosa\n"
          ]
        }
      ]
    },
    {
      "cell_type": "code",
      "source": [
        "versicolor = df[df['species'] == 'versicolor']\n",
        "print(versicolor)"
      ],
      "metadata": {
        "colab": {
          "base_uri": "https://localhost:8080/"
        },
        "id": "XZ0JDJzma5RF",
        "outputId": "296e150e-4bdb-44cd-81df-61d3c4098251"
      },
      "execution_count": null,
      "outputs": [
        {
          "output_type": "stream",
          "name": "stdout",
          "text": [
            "Empty DataFrame\n",
            "Columns: [sepal_length, sepal_width, petal_length, petal_width, species]\n",
            "Index: []\n"
          ]
        }
      ]
    }
  ]
}